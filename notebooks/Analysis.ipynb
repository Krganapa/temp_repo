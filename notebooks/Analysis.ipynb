{
 "cells": [
  {
   "cell_type": "code",
   "execution_count": 55,
   "metadata": {},
   "outputs": [],
   "source": [
    "#Import modules for dataprocessing\n",
    "import pandas as pd\n",
    "import numpy as np\n",
    "import itertools\n",
    "\n",
    "#import analysis modules\n",
    "from analysis import *"
   ]
  },
  {
   "cell_type": "markdown",
   "metadata": {},
   "source": [
    "### I. Selecting all possible combinations"
   ]
  },
  {
   "cell_type": "code",
   "execution_count": 29,
   "metadata": {},
   "outputs": [],
   "source": [
    "parameters = {}\n",
    "parameters['seat_dist'] = [12]\n",
    "parameters['init_patient'] = [3]\n",
    "parameters['attend_rate'] = [0.25, 0.5, 0.75, 1]\n",
    "parameters['inclass_lunch'] = [True, False]\n",
    "parameters['mask_prob'] = [0, 0.25, 0.5, 0.75, 1]\n",
    "parameters['iteration'] = [0]"
   ]
  },
  {
   "cell_type": "code",
   "execution_count": 30,
   "metadata": {},
   "outputs": [],
   "source": [
    "combinations = list(itertools.product(*list(parameters.values())))\n",
    "files = generate_file_names(combinations)\n",
    "data = return_dataframe_params(files)\n",
    "dataset = pd.DataFrame(combinations, columns=parameters.keys())\n",
    "dataset['combination_number'] = dataset.index + 1"
   ]
  },
  {
   "cell_type": "code",
   "execution_count": 31,
   "metadata": {},
   "outputs": [
    {
     "data": {
      "text/html": [
       "<div>\n",
       "<style scoped>\n",
       "    .dataframe tbody tr th:only-of-type {\n",
       "        vertical-align: middle;\n",
       "    }\n",
       "\n",
       "    .dataframe tbody tr th {\n",
       "        vertical-align: top;\n",
       "    }\n",
       "\n",
       "    .dataframe thead th {\n",
       "        text-align: right;\n",
       "    }\n",
       "</style>\n",
       "<table border=\"1\" class=\"dataframe\">\n",
       "  <thead>\n",
       "    <tr style=\"text-align: right;\">\n",
       "      <th></th>\n",
       "      <th>seat_dist</th>\n",
       "      <th>init_patient</th>\n",
       "      <th>attend_rate</th>\n",
       "      <th>inclass_lunch</th>\n",
       "      <th>mask_prob</th>\n",
       "      <th>iteration</th>\n",
       "      <th>combination_number</th>\n",
       "    </tr>\n",
       "  </thead>\n",
       "  <tbody>\n",
       "    <tr>\n",
       "      <th>0</th>\n",
       "      <td>12</td>\n",
       "      <td>3</td>\n",
       "      <td>0.25</td>\n",
       "      <td>True</td>\n",
       "      <td>0.00</td>\n",
       "      <td>0</td>\n",
       "      <td>1</td>\n",
       "    </tr>\n",
       "    <tr>\n",
       "      <th>1</th>\n",
       "      <td>12</td>\n",
       "      <td>3</td>\n",
       "      <td>0.25</td>\n",
       "      <td>True</td>\n",
       "      <td>0.25</td>\n",
       "      <td>0</td>\n",
       "      <td>2</td>\n",
       "    </tr>\n",
       "    <tr>\n",
       "      <th>2</th>\n",
       "      <td>12</td>\n",
       "      <td>3</td>\n",
       "      <td>0.25</td>\n",
       "      <td>True</td>\n",
       "      <td>0.50</td>\n",
       "      <td>0</td>\n",
       "      <td>3</td>\n",
       "    </tr>\n",
       "    <tr>\n",
       "      <th>3</th>\n",
       "      <td>12</td>\n",
       "      <td>3</td>\n",
       "      <td>0.25</td>\n",
       "      <td>True</td>\n",
       "      <td>0.75</td>\n",
       "      <td>0</td>\n",
       "      <td>4</td>\n",
       "    </tr>\n",
       "    <tr>\n",
       "      <th>4</th>\n",
       "      <td>12</td>\n",
       "      <td>3</td>\n",
       "      <td>0.25</td>\n",
       "      <td>True</td>\n",
       "      <td>1.00</td>\n",
       "      <td>0</td>\n",
       "      <td>5</td>\n",
       "    </tr>\n",
       "  </tbody>\n",
       "</table>\n",
       "</div>"
      ],
      "text/plain": [
       "   seat_dist  init_patient  attend_rate  inclass_lunch  mask_prob  iteration  \\\n",
       "0         12             3         0.25           True       0.00          0   \n",
       "1         12             3         0.25           True       0.25          0   \n",
       "2         12             3         0.25           True       0.50          0   \n",
       "3         12             3         0.25           True       0.75          0   \n",
       "4         12             3         0.25           True       1.00          0   \n",
       "\n",
       "   combination_number  \n",
       "0                   1  \n",
       "1                   2  \n",
       "2                   3  \n",
       "3                   4  \n",
       "4                   5  "
      ]
     },
     "execution_count": 31,
     "metadata": {},
     "output_type": "execute_result"
    }
   ],
   "source": [
    "dataset.head()"
   ]
  },
  {
   "cell_type": "code",
   "execution_count": 32,
   "metadata": {},
   "outputs": [
    {
     "name": "stdout",
     "output_type": "stream",
     "text": [
      "There are 54000 combined data elements in the merged dataframe.\n"
     ]
    }
   ],
   "source": [
    "print(f'There are {len(data)} combined data elements in the merged dataframe.')"
   ]
  },
  {
   "cell_type": "markdown",
   "metadata": {},
   "source": [
    "### II. Generate Combination Plot"
   ]
  },
  {
   "cell_type": "code",
   "execution_count": null,
   "metadata": {},
   "outputs": [],
   "source": [
    "generate_facetgrid(data, dataset)"
   ]
  },
  {
   "cell_type": "markdown",
   "metadata": {},
   "source": [
    "**We cannot display results due to filesize blowup. Please view report if necessary**"
   ]
  },
  {
   "cell_type": "markdown",
   "metadata": {},
   "source": [
    "### III. Generate Heatmaps"
   ]
  },
  {
   "cell_type": "code",
   "execution_count": null,
   "metadata": {},
   "outputs": [],
   "source": [
    "generate_heatmaps(files)"
   ]
  },
  {
   "cell_type": "markdown",
   "metadata": {},
   "source": [
    "**We cannot display results because of security concerns on the dataset. Please view report if necessary**"
   ]
  },
  {
   "cell_type": "markdown",
   "metadata": {},
   "source": [
    "### IV. Assessing Preliminary Parameter Importances via a Random Forest Regressor "
   ]
  },
  {
   "cell_type": "code",
   "execution_count": 12,
   "metadata": {},
   "outputs": [],
   "source": [
    "dataset = pd.DataFrame(combinations, columns=parameters.keys())\n",
    "dataset['output'] = (data.groupby('combo')['cov_positive'].last()).values\n",
    "dataset['output'] = dataset['output'] / (500*dataset['attend_rate'])"
   ]
  },
  {
   "cell_type": "code",
   "execution_count": 13,
   "metadata": {},
   "outputs": [
    {
     "data": {
      "text/plain": [
       "RandomForestRegressor(bootstrap=True, criterion='mse', max_depth=None,\n",
       "                      max_features='auto', max_leaf_nodes=None,\n",
       "                      min_impurity_decrease=0.0, min_impurity_split=None,\n",
       "                      min_samples_leaf=1, min_samples_split=2,\n",
       "                      min_weight_fraction_leaf=0.0, n_estimators=50,\n",
       "                      n_jobs=None, oob_score=False, random_state=200, verbose=0,\n",
       "                      warm_start=False)"
      ]
     },
     "execution_count": 13,
     "metadata": {},
     "output_type": "execute_result"
    }
   ],
   "source": [
    "regressor = RandomForestRegressor(n_estimators=50, random_state=200)\n",
    "regressor.fit(dataset.iloc[:,:-1].values, dataset['output'])"
   ]
  },
  {
   "cell_type": "code",
   "execution_count": 14,
   "metadata": {},
   "outputs": [
    {
     "data": {
      "text/html": [
       "<div>\n",
       "<style scoped>\n",
       "    .dataframe tbody tr th:only-of-type {\n",
       "        vertical-align: middle;\n",
       "    }\n",
       "\n",
       "    .dataframe tbody tr th {\n",
       "        vertical-align: top;\n",
       "    }\n",
       "\n",
       "    .dataframe thead th {\n",
       "        text-align: right;\n",
       "    }\n",
       "</style>\n",
       "<table border=\"1\" class=\"dataframe\">\n",
       "  <thead>\n",
       "    <tr style=\"text-align: right;\">\n",
       "      <th></th>\n",
       "      <th>seat_dist</th>\n",
       "      <th>init_patient</th>\n",
       "      <th>attend_rate</th>\n",
       "      <th>inclass_lunch</th>\n",
       "      <th>mask_prob</th>\n",
       "      <th>iteration</th>\n",
       "    </tr>\n",
       "  </thead>\n",
       "  <tbody>\n",
       "    <tr>\n",
       "      <th>0</th>\n",
       "      <td>0.0</td>\n",
       "      <td>0.0</td>\n",
       "      <td>0.300142</td>\n",
       "      <td>0.45689</td>\n",
       "      <td>0.242969</td>\n",
       "      <td>0.0</td>\n",
       "    </tr>\n",
       "  </tbody>\n",
       "</table>\n",
       "</div>"
      ],
      "text/plain": [
       "   seat_dist  init_patient  attend_rate  inclass_lunch  mask_prob  iteration\n",
       "0        0.0           0.0     0.300142        0.45689   0.242969        0.0"
      ]
     },
     "execution_count": 14,
     "metadata": {},
     "output_type": "execute_result"
    }
   ],
   "source": [
    "feature_importances = pd.DataFrame(regressor.feature_importances_).T\n",
    "feature_importances.columns = columns = parameters.keys()\n",
    "feature_importances"
   ]
  },
  {
   "cell_type": "code",
   "execution_count": 15,
   "metadata": {},
   "outputs": [],
   "source": [
    "dataset['combination_number'] = dataset.index + 1\n",
    "merged = data.merge(dataset, left_on='combo', right_on='combination_number')\n",
    "merged['cov_positive'] = merged['cov_positive'] / (500*merged['attend_rate'])"
   ]
  },
  {
   "cell_type": "markdown",
   "metadata": {},
   "source": [
    "### V. Assessing if any specific parameter(s) produces significant differences in distributions"
   ]
  },
  {
   "cell_type": "code",
   "execution_count": 16,
   "metadata": {},
   "outputs": [],
   "source": [
    "merged_grouped = merged.groupby(['combo'])\n",
    "unique_combos = list(itertools.combinations(merged_grouped.groups.keys(), 2))"
   ]
  },
  {
   "cell_type": "code",
   "execution_count": 18,
   "metadata": {},
   "outputs": [],
   "source": [
    "results = []\n",
    "for group1, group2 in unique_combos:\n",
    "    results.append([group1, group2, return_significant_difference(group1, group2, merged_grouped)])\n",
    "results_df = pd.DataFrame(results, columns=['combo_1', 'combo_2', 'result'])"
   ]
  },
  {
   "cell_type": "code",
   "execution_count": 20,
   "metadata": {},
   "outputs": [],
   "source": [
    "all_significant = results_df[results_df['result'] == True]"
   ]
  },
  {
   "cell_type": "code",
   "execution_count": 21,
   "metadata": {},
   "outputs": [],
   "source": [
    "compare_combinations = all_significant.merge(dataset, left_on='combo_1', right_on='combination_number').merge(dataset, left_on='combo_2', right_on='combination_number')"
   ]
  },
  {
   "cell_type": "code",
   "execution_count": 22,
   "metadata": {},
   "outputs": [],
   "source": [
    "significant_combinations = compare_combinations[['attend_rate_x', 'inclass_lunch_x', 'mask_prob_x','attend_rate_y', 'inclass_lunch_y', 'mask_prob_y']]"
   ]
  },
  {
   "cell_type": "code",
   "execution_count": 23,
   "metadata": {},
   "outputs": [],
   "source": [
    "different_variables = significant_combinations.apply(get_different_column, axis=1)"
   ]
  },
  {
   "cell_type": "code",
   "execution_count": 24,
   "metadata": {},
   "outputs": [
    {
     "data": {
      "text/plain": [
       "attend_rate-inclass_lunch-mask_prob    125\n",
       "attend_rate-mask_prob                   71\n",
       "inclass_lunch-mask_prob                 36\n",
       "attend_rate-inclass_lunch               29\n",
       "mask_prob                               16\n",
       "attend_rate                              9\n",
       "inclass_lunch                            9\n",
       "dtype: int64"
      ]
     },
     "execution_count": 24,
     "metadata": {},
     "output_type": "execute_result"
    }
   ],
   "source": [
    "different_variables.value_counts()"
   ]
  },
  {
   "cell_type": "code",
   "execution_count": 56,
   "metadata": {},
   "outputs": [
    {
     "data": {
      "text/plain": [
       "['outputs/output_seat_dist_12_init_patient_3_attend_rate_0.25_inclass_lunch_True_mask_prob_0_iteration_0',\n",
       " 'outputs/output_seat_dist_12_init_patient_3_attend_rate_0.25_inclass_lunch_True_mask_prob_0.25_iteration_0',\n",
       " 'outputs/output_seat_dist_12_init_patient_3_attend_rate_0.25_inclass_lunch_True_mask_prob_0.5_iteration_0',\n",
       " 'outputs/output_seat_dist_12_init_patient_3_attend_rate_0.25_inclass_lunch_True_mask_prob_0.75_iteration_0',\n",
       " 'outputs/output_seat_dist_12_init_patient_3_attend_rate_0.25_inclass_lunch_True_mask_prob_1_iteration_0',\n",
       " 'outputs/output_seat_dist_12_init_patient_3_attend_rate_0.25_inclass_lunch_False_mask_prob_0_iteration_0',\n",
       " 'outputs/output_seat_dist_12_init_patient_3_attend_rate_0.25_inclass_lunch_False_mask_prob_0.25_iteration_0',\n",
       " 'outputs/output_seat_dist_12_init_patient_3_attend_rate_0.25_inclass_lunch_False_mask_prob_0.5_iteration_0',\n",
       " 'outputs/output_seat_dist_12_init_patient_3_attend_rate_0.25_inclass_lunch_False_mask_prob_0.75_iteration_0',\n",
       " 'outputs/output_seat_dist_12_init_patient_3_attend_rate_0.25_inclass_lunch_False_mask_prob_1_iteration_0',\n",
       " 'outputs/output_seat_dist_12_init_patient_3_attend_rate_0.5_inclass_lunch_True_mask_prob_0_iteration_0',\n",
       " 'outputs/output_seat_dist_12_init_patient_3_attend_rate_0.5_inclass_lunch_True_mask_prob_0.25_iteration_0',\n",
       " 'outputs/output_seat_dist_12_init_patient_3_attend_rate_0.5_inclass_lunch_True_mask_prob_0.5_iteration_0',\n",
       " 'outputs/output_seat_dist_12_init_patient_3_attend_rate_0.5_inclass_lunch_True_mask_prob_0.75_iteration_0',\n",
       " 'outputs/output_seat_dist_12_init_patient_3_attend_rate_0.5_inclass_lunch_True_mask_prob_1_iteration_0',\n",
       " 'outputs/output_seat_dist_12_init_patient_3_attend_rate_0.5_inclass_lunch_False_mask_prob_0_iteration_0',\n",
       " 'outputs/output_seat_dist_12_init_patient_3_attend_rate_0.5_inclass_lunch_False_mask_prob_0.25_iteration_0',\n",
       " 'outputs/output_seat_dist_12_init_patient_3_attend_rate_0.5_inclass_lunch_False_mask_prob_0.5_iteration_0',\n",
       " 'outputs/output_seat_dist_12_init_patient_3_attend_rate_0.5_inclass_lunch_False_mask_prob_0.75_iteration_0',\n",
       " 'outputs/output_seat_dist_12_init_patient_3_attend_rate_0.5_inclass_lunch_False_mask_prob_1_iteration_0',\n",
       " 'outputs/output_seat_dist_12_init_patient_3_attend_rate_0.75_inclass_lunch_True_mask_prob_0_iteration_0',\n",
       " 'outputs/output_seat_dist_12_init_patient_3_attend_rate_0.75_inclass_lunch_True_mask_prob_0.25_iteration_0',\n",
       " 'outputs/output_seat_dist_12_init_patient_3_attend_rate_0.75_inclass_lunch_True_mask_prob_0.5_iteration_0',\n",
       " 'outputs/output_seat_dist_12_init_patient_3_attend_rate_0.75_inclass_lunch_True_mask_prob_0.75_iteration_0',\n",
       " 'outputs/output_seat_dist_12_init_patient_3_attend_rate_0.75_inclass_lunch_True_mask_prob_1_iteration_0',\n",
       " 'outputs/output_seat_dist_12_init_patient_3_attend_rate_0.75_inclass_lunch_False_mask_prob_0_iteration_0',\n",
       " 'outputs/output_seat_dist_12_init_patient_3_attend_rate_0.75_inclass_lunch_False_mask_prob_0.25_iteration_0',\n",
       " 'outputs/output_seat_dist_12_init_patient_3_attend_rate_0.75_inclass_lunch_False_mask_prob_0.5_iteration_0',\n",
       " 'outputs/output_seat_dist_12_init_patient_3_attend_rate_0.75_inclass_lunch_False_mask_prob_0.75_iteration_0',\n",
       " 'outputs/output_seat_dist_12_init_patient_3_attend_rate_0.75_inclass_lunch_False_mask_prob_1_iteration_0',\n",
       " 'outputs/output_seat_dist_12_init_patient_3_attend_rate_1_inclass_lunch_True_mask_prob_0_iteration_0',\n",
       " 'outputs/output_seat_dist_12_init_patient_3_attend_rate_1_inclass_lunch_True_mask_prob_0.25_iteration_0',\n",
       " 'outputs/output_seat_dist_12_init_patient_3_attend_rate_1_inclass_lunch_True_mask_prob_0.5_iteration_0',\n",
       " 'outputs/output_seat_dist_12_init_patient_3_attend_rate_1_inclass_lunch_True_mask_prob_0.75_iteration_0',\n",
       " 'outputs/output_seat_dist_12_init_patient_3_attend_rate_1_inclass_lunch_True_mask_prob_1_iteration_0',\n",
       " 'outputs/output_seat_dist_12_init_patient_3_attend_rate_1_inclass_lunch_False_mask_prob_0_iteration_0',\n",
       " 'outputs/output_seat_dist_12_init_patient_3_attend_rate_1_inclass_lunch_False_mask_prob_0.25_iteration_0',\n",
       " 'outputs/output_seat_dist_12_init_patient_3_attend_rate_1_inclass_lunch_False_mask_prob_0.5_iteration_0',\n",
       " 'outputs/output_seat_dist_12_init_patient_3_attend_rate_1_inclass_lunch_False_mask_prob_0.75_iteration_0',\n",
       " 'outputs/output_seat_dist_12_init_patient_3_attend_rate_1_inclass_lunch_False_mask_prob_1_iteration_0']"
      ]
     },
     "execution_count": 56,
     "metadata": {},
     "output_type": "execute_result"
    }
   ],
   "source": [
    "files"
   ]
  },
  {
   "cell_type": "code",
   "execution_count": null,
   "metadata": {},
   "outputs": [],
   "source": []
  }
 ],
 "metadata": {
  "kernelspec": {
   "display_name": "Python 3",
   "language": "python",
   "name": "python3"
  },
  "language_info": {
   "codemirror_mode": {
    "name": "ipython",
    "version": 3
   },
   "file_extension": ".py",
   "mimetype": "text/x-python",
   "name": "python",
   "nbconvert_exporter": "python",
   "pygments_lexer": "ipython3",
   "version": "3.7.3"
  },
  "toc": {
   "base_numbering": 1,
   "nav_menu": {},
   "number_sections": false,
   "sideBar": false,
   "skip_h1_title": false,
   "title_cell": "Table of Contents",
   "title_sidebar": "Contents",
   "toc_cell": false,
   "toc_position": {},
   "toc_section_display": false,
   "toc_window_display": false
  }
 },
 "nbformat": 4,
 "nbformat_minor": 4
}
